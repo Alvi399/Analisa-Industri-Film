{
  "cells": [
    {
      "cell_type": "markdown",
      "metadata": {
        "id": "H9wADwK78DCz"
      },
      "source": [
        "# **Proyek Analisis Data: Film Dataset**\n"
      ]
    },
    {
      "cell_type": "markdown",
      "metadata": {
        "id": "GmQeQ5YF8DC0"
      },
      "source": [
        "- Pertanyaan 1\n",
        "- Pertanyaan 2\n"
      ]
    },
    {
      "cell_type": "markdown",
      "metadata": {
        "id": "H-z4QGlO8DC1"
      },
      "source": [
        "## Import Semua Packages/Library yang Digunakan\n"
      ]
    },
    {
      "cell_type": "code",
      "execution_count": 1,
      "metadata": {
        "id": "FVYwaObI8DC1"
      },
      "outputs": [],
      "source": [
        "import numpy as np\n",
        "import pandas as pd\n",
        "import matplotlib.pyplot as plt\n",
        "import seaborn as sns\n",
        "sns.set(style=\"whitegrid\")"
      ]
    },
    {
      "cell_type": "markdown",
      "metadata": {
        "id": "h_Sh51Xy8DC1"
      },
      "source": [
        "## Data Wrangling\n"
      ]
    },
    {
      "cell_type": "markdown",
      "metadata": {
        "id": "sXU2GBYu8DC1"
      },
      "source": [
        "### Gathering Data\n"
      ]
    },
    {
      "cell_type": "code",
      "execution_count": 2,
      "metadata": {
        "id": "zjCBk1BI8DC1"
      },
      "outputs": [
        {
          "data": {
            "text/html": [
              "<div>\n",
              "<style scoped>\n",
              "    .dataframe tbody tr th:only-of-type {\n",
              "        vertical-align: middle;\n",
              "    }\n",
              "\n",
              "    .dataframe tbody tr th {\n",
              "        vertical-align: top;\n",
              "    }\n",
              "\n",
              "    .dataframe thead th {\n",
              "        text-align: right;\n",
              "    }\n",
              "</style>\n",
              "<table border=\"1\" class=\"dataframe\">\n",
              "  <thead>\n",
              "    <tr style=\"text-align: right;\">\n",
              "      <th></th>\n",
              "      <th>index</th>\n",
              "      <th>Genre</th>\n",
              "      <th>Year</th>\n",
              "      <th>Movies Released</th>\n",
              "      <th>Gross</th>\n",
              "      <th>Tickets Sold</th>\n",
              "      <th>Inflation-Adjusted Gross</th>\n",
              "      <th>Top Movie</th>\n",
              "      <th>Top Movie Gross (That Year)</th>\n",
              "      <th>Top Movie Inflation-Adjusted Gross (That Year)</th>\n",
              "    </tr>\n",
              "  </thead>\n",
              "  <tbody>\n",
              "    <tr>\n",
              "      <th>0</th>\n",
              "      <td>0</td>\n",
              "      <td>Adventure</td>\n",
              "      <td>1995</td>\n",
              "      <td>29</td>\n",
              "      <td>771507571</td>\n",
              "      <td>177358047</td>\n",
              "      <td>1590901682</td>\n",
              "      <td>Toy Story</td>\n",
              "      <td>150148222</td>\n",
              "      <td>3.096160e+08</td>\n",
              "    </tr>\n",
              "    <tr>\n",
              "      <th>1</th>\n",
              "      <td>1</td>\n",
              "      <td>Adventure</td>\n",
              "      <td>1996</td>\n",
              "      <td>34</td>\n",
              "      <td>1290490033</td>\n",
              "      <td>291966054</td>\n",
              "      <td>2618935504</td>\n",
              "      <td>Independence Day</td>\n",
              "      <td>306169255</td>\n",
              "      <td>6.213435e+08</td>\n",
              "    </tr>\n",
              "    <tr>\n",
              "      <th>2</th>\n",
              "      <td>2</td>\n",
              "      <td>Adventure</td>\n",
              "      <td>1997</td>\n",
              "      <td>23</td>\n",
              "      <td>881902843</td>\n",
              "      <td>192135684</td>\n",
              "      <td>1723457085</td>\n",
              "      <td>Men in Black</td>\n",
              "      <td>250650052</td>\n",
              "      <td>4.898324e+08</td>\n",
              "    </tr>\n",
              "    <tr>\n",
              "      <th>3</th>\n",
              "      <td>3</td>\n",
              "      <td>Adventure</td>\n",
              "      <td>1998</td>\n",
              "      <td>29</td>\n",
              "      <td>1614467732</td>\n",
              "      <td>344236174</td>\n",
              "      <td>3087798481</td>\n",
              "      <td>Armageddon</td>\n",
              "      <td>201578182</td>\n",
              "      <td>3.855344e+08</td>\n",
              "    </tr>\n",
              "    <tr>\n",
              "      <th>4</th>\n",
              "      <td>4</td>\n",
              "      <td>Adventure</td>\n",
              "      <td>1999</td>\n",
              "      <td>27</td>\n",
              "      <td>1612432107</td>\n",
              "      <td>317407880</td>\n",
              "      <td>2847148684</td>\n",
              "      <td>Star Wars Ep. I: The Phantom Menace</td>\n",
              "      <td>430443350</td>\n",
              "      <td>7.600545e+08</td>\n",
              "    </tr>\n",
              "  </tbody>\n",
              "</table>\n",
              "</div>"
            ],
            "text/plain": [
              "   index      Genre  Year  Movies Released       Gross  Tickets Sold  \\\n",
              "0      0  Adventure  1995               29   771507571     177358047   \n",
              "1      1  Adventure  1996               34  1290490033     291966054   \n",
              "2      2  Adventure  1997               23   881902843     192135684   \n",
              "3      3  Adventure  1998               29  1614467732     344236174   \n",
              "4      4  Adventure  1999               27  1612432107     317407880   \n",
              "\n",
              "   Inflation-Adjusted Gross                            Top Movie  \\\n",
              "0                1590901682                            Toy Story   \n",
              "1                2618935504                     Independence Day   \n",
              "2                1723457085                         Men in Black   \n",
              "3                3087798481                           Armageddon   \n",
              "4                2847148684  Star Wars Ep. I: The Phantom Menace   \n",
              "\n",
              "   Top Movie Gross (That Year)  Top Movie Inflation-Adjusted Gross (That Year)  \n",
              "0                    150148222                                    3.096160e+08  \n",
              "1                    306169255                                    6.213435e+08  \n",
              "2                    250650052                                    4.898324e+08  \n",
              "3                    201578182                                    3.855344e+08  \n",
              "4                    430443350                                    7.600545e+08  "
            ]
          },
          "execution_count": 2,
          "metadata": {},
          "output_type": "execute_result"
        }
      ],
      "source": [
        "data_pd = pd.read_csv(\"data/FilmsDataset.csv\")\n",
        "data_pd.head()"
      ]
    },
    {
      "cell_type": "markdown",
      "metadata": {
        "id": "FHSiqaZp8DC1"
      },
      "source": [
        "### Assessing Data\n"
      ]
    },
    {
      "cell_type": "code",
      "execution_count": 3,
      "metadata": {},
      "outputs": [
        {
          "name": "stdout",
          "output_type": "stream",
          "text": [
            "<class 'pandas.core.frame.DataFrame'>\n",
            "RangeIndex: 300 entries, 0 to 299\n",
            "Data columns (total 10 columns):\n",
            " #   Column                                          Non-Null Count  Dtype  \n",
            "---  ------                                          --------------  -----  \n",
            " 0   index                                           300 non-null    int64  \n",
            " 1   Genre                                           300 non-null    object \n",
            " 2   Year                                            300 non-null    int64  \n",
            " 3   Movies Released                                 300 non-null    int64  \n",
            " 4   Gross                                           300 non-null    int64  \n",
            " 5   Tickets Sold                                    300 non-null    int64  \n",
            " 6   Inflation-Adjusted Gross                        300 non-null    int64  \n",
            " 7   Top Movie                                       300 non-null    object \n",
            " 8   Top Movie Gross (That Year)                     300 non-null    int64  \n",
            " 9   Top Movie Inflation-Adjusted Gross (That Year)  300 non-null    float64\n",
            "dtypes: float64(1), int64(7), object(2)\n",
            "memory usage: 23.6+ KB\n"
          ]
        }
      ],
      "source": [
        "\"\"\"\n",
        "kesalah data yang sering terjadi\n",
        "-duplicated data\n",
        "-missing value\n",
        "-invalid value\n",
        "-inacurated data\n",
        "-inconsistant data\n",
        "-outlier\n",
        "\"\"\"\n",
        "data_pd.info()"
      ]
    },
    {
      "cell_type": "code",
      "execution_count": 4,
      "metadata": {
        "id": "ax-3tEjc9Cj1"
      },
      "outputs": [
        {
          "data": {
            "text/html": [
              "<div>\n",
              "<style scoped>\n",
              "    .dataframe tbody tr th:only-of-type {\n",
              "        vertical-align: middle;\n",
              "    }\n",
              "\n",
              "    .dataframe tbody tr th {\n",
              "        vertical-align: top;\n",
              "    }\n",
              "\n",
              "    .dataframe thead th {\n",
              "        text-align: right;\n",
              "    }\n",
              "</style>\n",
              "<table border=\"1\" class=\"dataframe\">\n",
              "  <thead>\n",
              "    <tr style=\"text-align: right;\">\n",
              "      <th></th>\n",
              "      <th>index</th>\n",
              "      <th>Genre</th>\n",
              "      <th>Year</th>\n",
              "      <th>Movies Released</th>\n",
              "      <th>Gross</th>\n",
              "      <th>Tickets Sold</th>\n",
              "      <th>Inflation-Adjusted Gross</th>\n",
              "      <th>Top Movie</th>\n",
              "      <th>Top Movie Gross (That Year)</th>\n",
              "      <th>Top Movie Inflation-Adjusted Gross (That Year)</th>\n",
              "    </tr>\n",
              "  </thead>\n",
              "  <tbody>\n",
              "    <tr>\n",
              "      <th>count</th>\n",
              "      <td>300.000000</td>\n",
              "      <td>300</td>\n",
              "      <td>300.000000</td>\n",
              "      <td>300.000000</td>\n",
              "      <td>3.000000e+02</td>\n",
              "      <td>3.000000e+02</td>\n",
              "      <td>3.000000e+02</td>\n",
              "      <td>300</td>\n",
              "      <td>3.000000e+02</td>\n",
              "      <td>3.000000e+02</td>\n",
              "    </tr>\n",
              "    <tr>\n",
              "      <th>unique</th>\n",
              "      <td>NaN</td>\n",
              "      <td>14</td>\n",
              "      <td>NaN</td>\n",
              "      <td>NaN</td>\n",
              "      <td>NaN</td>\n",
              "      <td>NaN</td>\n",
              "      <td>NaN</td>\n",
              "      <td>287</td>\n",
              "      <td>NaN</td>\n",
              "      <td>NaN</td>\n",
              "    </tr>\n",
              "    <tr>\n",
              "      <th>top</th>\n",
              "      <td>NaN</td>\n",
              "      <td>Adventure</td>\n",
              "      <td>NaN</td>\n",
              "      <td>NaN</td>\n",
              "      <td>NaN</td>\n",
              "      <td>NaN</td>\n",
              "      <td>NaN</td>\n",
              "      <td>Three Billboards Outside Ebbing, Missouri</td>\n",
              "      <td>NaN</td>\n",
              "      <td>NaN</td>\n",
              "    </tr>\n",
              "    <tr>\n",
              "      <th>freq</th>\n",
              "      <td>NaN</td>\n",
              "      <td>24</td>\n",
              "      <td>NaN</td>\n",
              "      <td>NaN</td>\n",
              "      <td>NaN</td>\n",
              "      <td>NaN</td>\n",
              "      <td>NaN</td>\n",
              "      <td>2</td>\n",
              "      <td>NaN</td>\n",
              "      <td>NaN</td>\n",
              "    </tr>\n",
              "    <tr>\n",
              "      <th>mean</th>\n",
              "      <td>149.500000</td>\n",
              "      <td>NaN</td>\n",
              "      <td>2006.963333</td>\n",
              "      <td>46.700000</td>\n",
              "      <td>7.382075e+08</td>\n",
              "      <td>1.078744e+08</td>\n",
              "      <td>9.676330e+08</td>\n",
              "      <td>NaN</td>\n",
              "      <td>1.350016e+08</td>\n",
              "      <td>1.766255e+08</td>\n",
              "    </tr>\n",
              "    <tr>\n",
              "      <th>std</th>\n",
              "      <td>86.746758</td>\n",
              "      <td>NaN</td>\n",
              "      <td>6.801189</td>\n",
              "      <td>60.938398</td>\n",
              "      <td>8.783016e+08</td>\n",
              "      <td>1.227454e+08</td>\n",
              "      <td>1.101026e+09</td>\n",
              "      <td>NaN</td>\n",
              "      <td>1.395006e+08</td>\n",
              "      <td>1.737089e+08</td>\n",
              "    </tr>\n",
              "    <tr>\n",
              "      <th>min</th>\n",
              "      <td>0.000000</td>\n",
              "      <td>NaN</td>\n",
              "      <td>1995.000000</td>\n",
              "      <td>1.000000</td>\n",
              "      <td>2.010000e+03</td>\n",
              "      <td>2.250000e+02</td>\n",
              "      <td>2.018000e+03</td>\n",
              "      <td>NaN</td>\n",
              "      <td>2.010000e+03</td>\n",
              "      <td>2.018000e+03</td>\n",
              "    </tr>\n",
              "    <tr>\n",
              "      <th>25%</th>\n",
              "      <td>74.750000</td>\n",
              "      <td>NaN</td>\n",
              "      <td>2001.000000</td>\n",
              "      <td>6.000000</td>\n",
              "      <td>5.786591e+07</td>\n",
              "      <td>8.275600e+06</td>\n",
              "      <td>7.423214e+07</td>\n",
              "      <td>NaN</td>\n",
              "      <td>2.528707e+07</td>\n",
              "      <td>3.603908e+07</td>\n",
              "    </tr>\n",
              "    <tr>\n",
              "      <th>50%</th>\n",
              "      <td>149.500000</td>\n",
              "      <td>NaN</td>\n",
              "      <td>2007.000000</td>\n",
              "      <td>25.000000</td>\n",
              "      <td>3.694118e+08</td>\n",
              "      <td>5.634667e+07</td>\n",
              "      <td>5.054296e+08</td>\n",
              "      <td>NaN</td>\n",
              "      <td>9.351396e+07</td>\n",
              "      <td>1.223360e+08</td>\n",
              "    </tr>\n",
              "    <tr>\n",
              "      <th>75%</th>\n",
              "      <td>224.250000</td>\n",
              "      <td>NaN</td>\n",
              "      <td>2013.000000</td>\n",
              "      <td>56.250000</td>\n",
              "      <td>1.294524e+09</td>\n",
              "      <td>1.859968e+08</td>\n",
              "      <td>1.668391e+09</td>\n",
              "      <td>NaN</td>\n",
              "      <td>1.886230e+08</td>\n",
              "      <td>2.841907e+08</td>\n",
              "    </tr>\n",
              "    <tr>\n",
              "      <th>max</th>\n",
              "      <td>299.000000</td>\n",
              "      <td>NaN</td>\n",
              "      <td>2018.000000</td>\n",
              "      <td>287.000000</td>\n",
              "      <td>4.159138e+09</td>\n",
              "      <td>4.851841e+08</td>\n",
              "      <td>4.352101e+09</td>\n",
              "      <td>NaN</td>\n",
              "      <td>7.422089e+08</td>\n",
              "      <td>8.478831e+08</td>\n",
              "    </tr>\n",
              "  </tbody>\n",
              "</table>\n",
              "</div>"
            ],
            "text/plain": [
              "             index      Genre         Year  Movies Released         Gross  \\\n",
              "count   300.000000        300   300.000000       300.000000  3.000000e+02   \n",
              "unique         NaN         14          NaN              NaN           NaN   \n",
              "top            NaN  Adventure          NaN              NaN           NaN   \n",
              "freq           NaN         24          NaN              NaN           NaN   \n",
              "mean    149.500000        NaN  2006.963333        46.700000  7.382075e+08   \n",
              "std      86.746758        NaN     6.801189        60.938398  8.783016e+08   \n",
              "min       0.000000        NaN  1995.000000         1.000000  2.010000e+03   \n",
              "25%      74.750000        NaN  2001.000000         6.000000  5.786591e+07   \n",
              "50%     149.500000        NaN  2007.000000        25.000000  3.694118e+08   \n",
              "75%     224.250000        NaN  2013.000000        56.250000  1.294524e+09   \n",
              "max     299.000000        NaN  2018.000000       287.000000  4.159138e+09   \n",
              "\n",
              "        Tickets Sold  Inflation-Adjusted Gross  \\\n",
              "count   3.000000e+02              3.000000e+02   \n",
              "unique           NaN                       NaN   \n",
              "top              NaN                       NaN   \n",
              "freq             NaN                       NaN   \n",
              "mean    1.078744e+08              9.676330e+08   \n",
              "std     1.227454e+08              1.101026e+09   \n",
              "min     2.250000e+02              2.018000e+03   \n",
              "25%     8.275600e+06              7.423214e+07   \n",
              "50%     5.634667e+07              5.054296e+08   \n",
              "75%     1.859968e+08              1.668391e+09   \n",
              "max     4.851841e+08              4.352101e+09   \n",
              "\n",
              "                                        Top Movie  \\\n",
              "count                                         300   \n",
              "unique                                        287   \n",
              "top     Three Billboards Outside Ebbing, Missouri   \n",
              "freq                                            2   \n",
              "mean                                          NaN   \n",
              "std                                           NaN   \n",
              "min                                           NaN   \n",
              "25%                                           NaN   \n",
              "50%                                           NaN   \n",
              "75%                                           NaN   \n",
              "max                                           NaN   \n",
              "\n",
              "        Top Movie Gross (That Year)  \\\n",
              "count                  3.000000e+02   \n",
              "unique                          NaN   \n",
              "top                             NaN   \n",
              "freq                            NaN   \n",
              "mean                   1.350016e+08   \n",
              "std                    1.395006e+08   \n",
              "min                    2.010000e+03   \n",
              "25%                    2.528707e+07   \n",
              "50%                    9.351396e+07   \n",
              "75%                    1.886230e+08   \n",
              "max                    7.422089e+08   \n",
              "\n",
              "        Top Movie Inflation-Adjusted Gross (That Year)  \n",
              "count                                     3.000000e+02  \n",
              "unique                                             NaN  \n",
              "top                                                NaN  \n",
              "freq                                               NaN  \n",
              "mean                                      1.766255e+08  \n",
              "std                                       1.737089e+08  \n",
              "min                                       2.018000e+03  \n",
              "25%                                       3.603908e+07  \n",
              "50%                                       1.223360e+08  \n",
              "75%                                       2.841907e+08  \n",
              "max                                       8.478831e+08  "
            ]
          },
          "execution_count": 4,
          "metadata": {},
          "output_type": "execute_result"
        }
      ],
      "source": [
        "data_pd.describe(include = 'all')"
      ]
    },
    {
      "cell_type": "code",
      "execution_count": 5,
      "metadata": {},
      "outputs": [
        {
          "name": "stdout",
          "output_type": "stream",
          "text": [
            "Jumlah duplikasi data pada dataset:  0\n"
          ]
        }
      ],
      "source": [
        "#Duplikasi\n",
        "duplicated_data = data_pd.duplicated().sum()\n",
        "print(\"Jumlah duplikasi data pada dataset: \",duplicated_data)"
      ]
    },
    {
      "cell_type": "code",
      "execution_count": 6,
      "metadata": {},
      "outputs": [
        {
          "data": {
            "text/plain": [
              "index                                             0\n",
              "Genre                                             0\n",
              "Year                                              0\n",
              "Movies Released                                   0\n",
              "Gross                                             0\n",
              "Tickets Sold                                      0\n",
              "Inflation-Adjusted Gross                          0\n",
              "Top Movie                                         0\n",
              "Top Movie Gross (That Year)                       0\n",
              "Top Movie Inflation-Adjusted Gross (That Year)    0\n",
              "dtype: int64"
            ]
          },
          "execution_count": 6,
          "metadata": {},
          "output_type": "execute_result"
        }
      ],
      "source": [
        "#Missing Value\n",
        "data_pd.isnull().sum()"
      ]
    },
    {
      "cell_type": "code",
      "execution_count": 7,
      "metadata": {},
      "outputs": [
        {
          "data": {
            "text/html": [
              "<div>\n",
              "<style scoped>\n",
              "    .dataframe tbody tr th:only-of-type {\n",
              "        vertical-align: middle;\n",
              "    }\n",
              "\n",
              "    .dataframe tbody tr th {\n",
              "        vertical-align: top;\n",
              "    }\n",
              "\n",
              "    .dataframe thead th {\n",
              "        text-align: right;\n",
              "    }\n",
              "</style>\n",
              "<table border=\"1\" class=\"dataframe\">\n",
              "  <thead>\n",
              "    <tr style=\"text-align: right;\">\n",
              "      <th></th>\n",
              "      <th>index</th>\n",
              "      <th>Genre</th>\n",
              "      <th>Tahun</th>\n",
              "      <th>Film Dirilis</th>\n",
              "      <th>Pendapatan Kotor</th>\n",
              "      <th>Tiket Terjual</th>\n",
              "      <th>Pendapatan Kotor-Inflasi</th>\n",
              "      <th>Film Teratas</th>\n",
              "      <th>Pendapatan Kotor Film Teratas</th>\n",
              "      <th>Pendapatan Kotor Film Teratas-Inflasi</th>\n",
              "    </tr>\n",
              "  </thead>\n",
              "  <tbody>\n",
              "    <tr>\n",
              "      <th>0</th>\n",
              "      <td>0</td>\n",
              "      <td>Adventure</td>\n",
              "      <td>1995</td>\n",
              "      <td>29</td>\n",
              "      <td>771507571</td>\n",
              "      <td>177358047</td>\n",
              "      <td>1590901682</td>\n",
              "      <td>Toy Story</td>\n",
              "      <td>150148222</td>\n",
              "      <td>3.096160e+08</td>\n",
              "    </tr>\n",
              "    <tr>\n",
              "      <th>1</th>\n",
              "      <td>1</td>\n",
              "      <td>Adventure</td>\n",
              "      <td>1996</td>\n",
              "      <td>34</td>\n",
              "      <td>1290490033</td>\n",
              "      <td>291966054</td>\n",
              "      <td>2618935504</td>\n",
              "      <td>Independence Day</td>\n",
              "      <td>306169255</td>\n",
              "      <td>6.213435e+08</td>\n",
              "    </tr>\n",
              "    <tr>\n",
              "      <th>2</th>\n",
              "      <td>2</td>\n",
              "      <td>Adventure</td>\n",
              "      <td>1997</td>\n",
              "      <td>23</td>\n",
              "      <td>881902843</td>\n",
              "      <td>192135684</td>\n",
              "      <td>1723457085</td>\n",
              "      <td>Men in Black</td>\n",
              "      <td>250650052</td>\n",
              "      <td>4.898324e+08</td>\n",
              "    </tr>\n",
              "    <tr>\n",
              "      <th>3</th>\n",
              "      <td>3</td>\n",
              "      <td>Adventure</td>\n",
              "      <td>1998</td>\n",
              "      <td>29</td>\n",
              "      <td>1614467732</td>\n",
              "      <td>344236174</td>\n",
              "      <td>3087798481</td>\n",
              "      <td>Armageddon</td>\n",
              "      <td>201578182</td>\n",
              "      <td>3.855344e+08</td>\n",
              "    </tr>\n",
              "    <tr>\n",
              "      <th>4</th>\n",
              "      <td>4</td>\n",
              "      <td>Adventure</td>\n",
              "      <td>1999</td>\n",
              "      <td>27</td>\n",
              "      <td>1612432107</td>\n",
              "      <td>317407880</td>\n",
              "      <td>2847148684</td>\n",
              "      <td>Star Wars Ep. I: The Phantom Menace</td>\n",
              "      <td>430443350</td>\n",
              "      <td>7.600545e+08</td>\n",
              "    </tr>\n",
              "  </tbody>\n",
              "</table>\n",
              "</div>"
            ],
            "text/plain": [
              "   index      Genre  Tahun  Film Dirilis  Pendapatan Kotor  Tiket Terjual  \\\n",
              "0      0  Adventure   1995            29         771507571      177358047   \n",
              "1      1  Adventure   1996            34        1290490033      291966054   \n",
              "2      2  Adventure   1997            23         881902843      192135684   \n",
              "3      3  Adventure   1998            29        1614467732      344236174   \n",
              "4      4  Adventure   1999            27        1612432107      317407880   \n",
              "\n",
              "   Pendapatan Kotor-Inflasi                         Film Teratas  \\\n",
              "0                1590901682                            Toy Story   \n",
              "1                2618935504                     Independence Day   \n",
              "2                1723457085                         Men in Black   \n",
              "3                3087798481                           Armageddon   \n",
              "4                2847148684  Star Wars Ep. I: The Phantom Menace   \n",
              "\n",
              "   Pendapatan Kotor Film Teratas  Pendapatan Kotor Film Teratas-Inflasi  \n",
              "0                      150148222                           3.096160e+08  \n",
              "1                      306169255                           6.213435e+08  \n",
              "2                      250650052                           4.898324e+08  \n",
              "3                      201578182                           3.855344e+08  \n",
              "4                      430443350                           7.600545e+08  "
            ]
          },
          "execution_count": 7,
          "metadata": {},
          "output_type": "execute_result"
        }
      ],
      "source": [
        "data = data_pd.rename(columns={\n",
        "    \"Year\":\"Tahun\",\n",
        "    \"Movies Released\":\"Film Dirilis\",\n",
        "    \"Gross\":\"Pendapatan Kotor\",\n",
        "    \"Tickets Sold\":\"Tiket Terjual\",\n",
        "    \"Inflation-Adjusted Gross\":\"Pendapatan Kotor-Inflasi\",\n",
        "    \"Top Movie\":\"Film Teratas\",\n",
        "    \"Top Movie Gross (That Year)\":\"Pendapatan Kotor Film Teratas\",\n",
        "    \"Top Movie Inflation-Adjusted Gross (That Year)\":\"Pendapatan Kotor Film Teratas-Inflasi\",\n",
        "})\n",
        "data.head()"
      ]
    },
    {
      "cell_type": "code",
      "execution_count": 8,
      "metadata": {},
      "outputs": [
        {
          "name": "stdout",
          "output_type": "stream",
          "text": [
            "[3202949362, 3284291528, 4159137913, 3305708764, 4142067464]\n",
            "[4352101018, 4171315189, 4288527865, 4142067248]\n",
            "[441226247, 742208942, 486295561, 517218368, 608581744, 531001578, 623279547, 652270625, 700059566, 443319081, 504014165]\n",
            "[760054461.932797, 772841448.728747, 702363943.500333, 672351601.17833, 700059529.493384, 847883130.859544]\n"
          ]
        }
      ],
      "source": [
        "#Outliers\n",
        "columns = [\n",
        "    \"Pendapatan Kotor\",\n",
        "    \"Pendapatan Kotor-Inflasi\",\n",
        "    \"Pendapatan Kotor Film Teratas\",\n",
        "    \"Pendapatan Kotor Film Teratas-Inflasi\"\n",
        "]\n",
        "result = {}\n",
        "for column in columns:\n",
        "    q25, q75 = np.percentile(data[column], 25), np.percentile(data[column], 75)\n",
        "    iqr = q75 - q25\n",
        "    cut_off = iqr * 1.5\n",
        "    minimum, maximum = q25 - cut_off, q75 + cut_off\n",
        "    outliers = [x for x in data[column] if x < minimum or x > maximum]\n",
        "    result[column] = outliers\n",
        "\n",
        "for item in result.values():\n",
        "    print(item)"
      ]
    },
    {
      "cell_type": "markdown",
      "metadata": {
        "id": "EhN5R4hr8DC1"
      },
      "source": [
        "### Cleaning Data\n"
      ]
    },
    {
      "cell_type": "code",
      "execution_count": 9,
      "metadata": {
        "id": "jVnYpprE9Evz"
      },
      "outputs": [],
      "source": [
        "'''\n",
        "outlier\n",
        "'''\n",
        "for column in columns:\n",
        "    q1 = np.percentile(data[column],25)\n",
        "    q2 = np.percentile(data[column],75)\n",
        "    iqr = q2 - q1\n",
        "    max = q2 + (1.5*iqr)\n",
        "    min = q1 - (1.5*iqr)\n",
        "    lower_than = data[column] < min\n",
        "    upper_than = data[column] > max\n",
        "    data.drop(data[lower_than].index,inplace=True)\n",
        "    data.drop(data[upper_than].index,inplace=True)"
      ]
    },
    {
      "cell_type": "code",
      "execution_count": 10,
      "metadata": {},
      "outputs": [
        {
          "name": "stdout",
          "output_type": "stream",
          "text": [
            "<class 'pandas.core.frame.DataFrame'>\n",
            "Index: 278 entries, 0 to 299\n",
            "Data columns (total 10 columns):\n",
            " #   Column                                 Non-Null Count  Dtype  \n",
            "---  ------                                 --------------  -----  \n",
            " 0   index                                  278 non-null    int64  \n",
            " 1   Genre                                  278 non-null    object \n",
            " 2   Tahun                                  278 non-null    int64  \n",
            " 3   Film Dirilis                           278 non-null    int64  \n",
            " 4   Pendapatan Kotor                       278 non-null    int64  \n",
            " 5   Tiket Terjual                          278 non-null    int64  \n",
            " 6   Pendapatan Kotor-Inflasi               278 non-null    int64  \n",
            " 7   Film Teratas                           278 non-null    object \n",
            " 8   Pendapatan Kotor Film Teratas          278 non-null    int64  \n",
            " 9   Pendapatan Kotor Film Teratas-Inflasi  278 non-null    float64\n",
            "dtypes: float64(1), int64(7), object(2)\n",
            "memory usage: 23.9+ KB\n"
          ]
        }
      ],
      "source": [
        "data.info()"
      ]
    },
    {
      "cell_type": "markdown",
      "metadata": {
        "id": "gp-Y6wU38DC1"
      },
      "source": [
        "## Exploratory Data Analysis (EDA)\n"
      ]
    },
    {
      "cell_type": "code",
      "execution_count": 11,
      "metadata": {},
      "outputs": [
        {
          "data": {
            "text/html": [
              "<div>\n",
              "<style scoped>\n",
              "    .dataframe tbody tr th:only-of-type {\n",
              "        vertical-align: middle;\n",
              "    }\n",
              "\n",
              "    .dataframe tbody tr th {\n",
              "        vertical-align: top;\n",
              "    }\n",
              "\n",
              "    .dataframe thead th {\n",
              "        text-align: right;\n",
              "    }\n",
              "</style>\n",
              "<table border=\"1\" class=\"dataframe\">\n",
              "  <thead>\n",
              "    <tr style=\"text-align: right;\">\n",
              "      <th></th>\n",
              "      <th>index</th>\n",
              "      <th>Genre</th>\n",
              "      <th>Tahun</th>\n",
              "      <th>Film Dirilis</th>\n",
              "      <th>Pendapatan Kotor</th>\n",
              "      <th>Tiket Terjual</th>\n",
              "      <th>Pendapatan Kotor-Inflasi</th>\n",
              "      <th>Film Teratas</th>\n",
              "      <th>Pendapatan Kotor Film Teratas</th>\n",
              "      <th>Pendapatan Kotor Film Teratas-Inflasi</th>\n",
              "    </tr>\n",
              "  </thead>\n",
              "  <tbody>\n",
              "    <tr>\n",
              "      <th>0</th>\n",
              "      <td>0</td>\n",
              "      <td>Adventure</td>\n",
              "      <td>1995</td>\n",
              "      <td>29</td>\n",
              "      <td>771507571</td>\n",
              "      <td>177358047</td>\n",
              "      <td>1590901682</td>\n",
              "      <td>Toy Story</td>\n",
              "      <td>150148222</td>\n",
              "      <td>3.096160e+08</td>\n",
              "    </tr>\n",
              "    <tr>\n",
              "      <th>2</th>\n",
              "      <td>2</td>\n",
              "      <td>Adventure</td>\n",
              "      <td>1997</td>\n",
              "      <td>23</td>\n",
              "      <td>881902843</td>\n",
              "      <td>192135684</td>\n",
              "      <td>1723457085</td>\n",
              "      <td>Men in Black</td>\n",
              "      <td>250650052</td>\n",
              "      <td>4.898324e+08</td>\n",
              "    </tr>\n",
              "    <tr>\n",
              "      <th>3</th>\n",
              "      <td>3</td>\n",
              "      <td>Adventure</td>\n",
              "      <td>1998</td>\n",
              "      <td>29</td>\n",
              "      <td>1614467732</td>\n",
              "      <td>344236174</td>\n",
              "      <td>3087798481</td>\n",
              "      <td>Armageddon</td>\n",
              "      <td>201578182</td>\n",
              "      <td>3.855344e+08</td>\n",
              "    </tr>\n",
              "    <tr>\n",
              "      <th>5</th>\n",
              "      <td>5</td>\n",
              "      <td>Adventure</td>\n",
              "      <td>2000</td>\n",
              "      <td>30</td>\n",
              "      <td>1327311892</td>\n",
              "      <td>246254507</td>\n",
              "      <td>2208902928</td>\n",
              "      <td>How the Grinch Stole Christmas</td>\n",
              "      <td>253367455</td>\n",
              "      <td>4.216523e+08</td>\n",
              "    </tr>\n",
              "    <tr>\n",
              "      <th>6</th>\n",
              "      <td>6</td>\n",
              "      <td>Adventure</td>\n",
              "      <td>2001</td>\n",
              "      <td>32</td>\n",
              "      <td>2268870844</td>\n",
              "      <td>400844935</td>\n",
              "      <td>3595579067</td>\n",
              "      <td>Harry Potter and the Sorcerer’s Stone</td>\n",
              "      <td>300404434</td>\n",
              "      <td>4.760641e+08</td>\n",
              "    </tr>\n",
              "  </tbody>\n",
              "</table>\n",
              "</div>"
            ],
            "text/plain": [
              "   index      Genre  Tahun  Film Dirilis  Pendapatan Kotor  Tiket Terjual  \\\n",
              "0      0  Adventure   1995            29         771507571      177358047   \n",
              "2      2  Adventure   1997            23         881902843      192135684   \n",
              "3      3  Adventure   1998            29        1614467732      344236174   \n",
              "5      5  Adventure   2000            30        1327311892      246254507   \n",
              "6      6  Adventure   2001            32        2268870844      400844935   \n",
              "\n",
              "   Pendapatan Kotor-Inflasi                           Film Teratas  \\\n",
              "0                1590901682                              Toy Story   \n",
              "2                1723457085                           Men in Black   \n",
              "3                3087798481                             Armageddon   \n",
              "5                2208902928         How the Grinch Stole Christmas   \n",
              "6                3595579067  Harry Potter and the Sorcerer’s Stone   \n",
              "\n",
              "   Pendapatan Kotor Film Teratas  Pendapatan Kotor Film Teratas-Inflasi  \n",
              "0                      150148222                           3.096160e+08  \n",
              "2                      250650052                           4.898324e+08  \n",
              "3                      201578182                           3.855344e+08  \n",
              "5                      253367455                           4.216523e+08  \n",
              "6                      300404434                           4.760641e+08  "
            ]
          },
          "execution_count": 11,
          "metadata": {},
          "output_type": "execute_result"
        }
      ],
      "source": [
        "data.head()"
      ]
    },
    {
      "cell_type": "code",
      "execution_count": 12,
      "metadata": {},
      "outputs": [
        {
          "data": {
            "text/html": [
              "<div>\n",
              "<style scoped>\n",
              "    .dataframe tbody tr th:only-of-type {\n",
              "        vertical-align: middle;\n",
              "    }\n",
              "\n",
              "    .dataframe tbody tr th {\n",
              "        vertical-align: top;\n",
              "    }\n",
              "\n",
              "    .dataframe thead th {\n",
              "        text-align: right;\n",
              "    }\n",
              "</style>\n",
              "<table border=\"1\" class=\"dataframe\">\n",
              "  <thead>\n",
              "    <tr style=\"text-align: right;\">\n",
              "      <th></th>\n",
              "      <th>Genre</th>\n",
              "      <th>Film Dirilis</th>\n",
              "    </tr>\n",
              "  </thead>\n",
              "  <tbody>\n",
              "    <tr>\n",
              "      <th>6</th>\n",
              "      <td>Drama</td>\n",
              "      <td>4997</td>\n",
              "    </tr>\n",
              "    <tr>\n",
              "      <th>2</th>\n",
              "      <td>Comedy</td>\n",
              "      <td>2230</td>\n",
              "    </tr>\n",
              "    <tr>\n",
              "      <th>5</th>\n",
              "      <td>Documentary</td>\n",
              "      <td>2143</td>\n",
              "    </tr>\n",
              "    <tr>\n",
              "      <th>12</th>\n",
              "      <td>Thriller or Suspense</td>\n",
              "      <td>938</td>\n",
              "    </tr>\n",
              "    <tr>\n",
              "      <th>11</th>\n",
              "      <td>Romantic Comedy</td>\n",
              "      <td>574</td>\n",
              "    </tr>\n",
              "    <tr>\n",
              "      <th>0</th>\n",
              "      <td>Action</td>\n",
              "      <td>553</td>\n",
              "    </tr>\n",
              "    <tr>\n",
              "      <th>7</th>\n",
              "      <td>Horror</td>\n",
              "      <td>553</td>\n",
              "    </tr>\n",
              "    <tr>\n",
              "      <th>1</th>\n",
              "      <td>Adventure</td>\n",
              "      <td>519</td>\n",
              "    </tr>\n",
              "    <tr>\n",
              "      <th>4</th>\n",
              "      <td>Dark Comedy</td>\n",
              "      <td>174</td>\n",
              "    </tr>\n",
              "    <tr>\n",
              "      <th>9</th>\n",
              "      <td>Musical</td>\n",
              "      <td>161</td>\n",
              "    </tr>\n",
              "    <tr>\n",
              "      <th>13</th>\n",
              "      <td>Western</td>\n",
              "      <td>77</td>\n",
              "    </tr>\n",
              "    <tr>\n",
              "      <th>3</th>\n",
              "      <td>Concert or Performance</td>\n",
              "      <td>63</td>\n",
              "    </tr>\n",
              "    <tr>\n",
              "      <th>8</th>\n",
              "      <td>Multiple Genres</td>\n",
              "      <td>39</td>\n",
              "    </tr>\n",
              "    <tr>\n",
              "      <th>10</th>\n",
              "      <td>Reality</td>\n",
              "      <td>5</td>\n",
              "    </tr>\n",
              "  </tbody>\n",
              "</table>\n",
              "</div>"
            ],
            "text/plain": [
              "                     Genre  Film Dirilis\n",
              "6                    Drama          4997\n",
              "2                   Comedy          2230\n",
              "5              Documentary          2143\n",
              "12    Thriller or Suspense           938\n",
              "11         Romantic Comedy           574\n",
              "0                   Action           553\n",
              "7                   Horror           553\n",
              "1                Adventure           519\n",
              "4              Dark Comedy           174\n",
              "9                  Musical           161\n",
              "13                 Western            77\n",
              "3   Concert or Performance            63\n",
              "8          Multiple Genres            39\n",
              "10                 Reality             5"
            ]
          },
          "execution_count": 12,
          "metadata": {},
          "output_type": "execute_result"
        }
      ],
      "source": [
        "#Genre film yang paling sering ditonton\n",
        "exp_genre_yang_paling_banyak_dirilis = data.groupby([\"Genre\"])[\"Film Dirilis\"].sum().reset_index().sort_values(ascending=False,by=\"Film Dirilis\")\n",
        "exp_genre_yang_paling_banyak_dirilis[\"Film Dirilis\"] = exp_genre_yang_paling_banyak_dirilis[\"Film Dirilis\"].astype(int)\n",
        "exp_genre_yang_paling_banyak_dirilis"
      ]
    },
    {
      "cell_type": "code",
      "execution_count": 13,
      "metadata": {},
      "outputs": [
        {
          "data": {
            "text/html": [
              "<div>\n",
              "<style scoped>\n",
              "    .dataframe tbody tr th:only-of-type {\n",
              "        vertical-align: middle;\n",
              "    }\n",
              "\n",
              "    .dataframe tbody tr th {\n",
              "        vertical-align: top;\n",
              "    }\n",
              "\n",
              "    .dataframe thead th {\n",
              "        text-align: right;\n",
              "    }\n",
              "</style>\n",
              "<table border=\"1\" class=\"dataframe\">\n",
              "  <thead>\n",
              "    <tr style=\"text-align: right;\">\n",
              "      <th></th>\n",
              "      <th>Tahun</th>\n",
              "      <th>Pendapatan Kotor</th>\n",
              "      <th>Pendapatan Kotor-Inflasi</th>\n",
              "    </tr>\n",
              "  </thead>\n",
              "  <tbody>\n",
              "    <tr>\n",
              "      <th>0</th>\n",
              "      <td>1995</td>\n",
              "      <td>1525963099</td>\n",
              "      <td>3146640569</td>\n",
              "    </tr>\n",
              "    <tr>\n",
              "      <th>1</th>\n",
              "      <td>1996</td>\n",
              "      <td>1373074715</td>\n",
              "      <td>2786533451</td>\n",
              "    </tr>\n",
              "    <tr>\n",
              "      <th>2</th>\n",
              "      <td>1997</td>\n",
              "      <td>1456612580</td>\n",
              "      <td>2846582614</td>\n",
              "    </tr>\n",
              "    <tr>\n",
              "      <th>3</th>\n",
              "      <td>1998</td>\n",
              "      <td>1614467732</td>\n",
              "      <td>3087798481</td>\n",
              "    </tr>\n",
              "    <tr>\n",
              "      <th>4</th>\n",
              "      <td>1999</td>\n",
              "      <td>1458861532</td>\n",
              "      <td>2575981251</td>\n",
              "    </tr>\n",
              "  </tbody>\n",
              "</table>\n",
              "</div>"
            ],
            "text/plain": [
              "   Tahun  Pendapatan Kotor  Pendapatan Kotor-Inflasi\n",
              "0   1995        1525963099                3146640569\n",
              "1   1996        1373074715                2786533451\n",
              "2   1997        1456612580                2846582614\n",
              "3   1998        1614467732                3087798481\n",
              "4   1999        1458861532                2575981251"
            ]
          },
          "execution_count": 13,
          "metadata": {},
          "output_type": "execute_result"
        }
      ],
      "source": [
        "exp_tahun_pendapatan_kotor_terbanyak = data.groupby(\"Tahun\").agg({\n",
        "    \"Pendapatan Kotor\": \"max\",\n",
        "    \"Pendapatan Kotor-Inflasi\": \"max\"\n",
        "}).reset_index()\n",
        "exp_tahun_pendapatan_kotor_terbanyak.head(5)\n"
      ]
    },
    {
      "cell_type": "code",
      "execution_count": 14,
      "metadata": {},
      "outputs": [
        {
          "data": {
            "text/plain": [
              "Film Teratas\n",
              "The Hunger Games: Catching Fire                  407139699\n",
              "Transformers: Revenge of the Fallen              402111870\n",
              "Frozen                                           400738009\n",
              "Harry Potter and the Deathly Hallows: Part II    381011219\n",
              "Star Wars Ep. III: Revenge of the Sith           380270577\n",
              "Name: Pendapatan Kotor Film Teratas, dtype: int64"
            ]
          },
          "execution_count": 14,
          "metadata": {},
          "output_type": "execute_result"
        }
      ],
      "source": [
        "#film yang paling banyak ditonton\n",
        "exp_film_dengan_pendapatan_kotor_terbanyak = data.groupby(by=\"Film Teratas\")[\"Pendapatan Kotor Film Teratas\"].sum().sort_values(ascending=False)\n",
        "exp_film_dengan_pendapatan_kotor_terbanyak.head(5)"
      ]
    },
    {
      "cell_type": "markdown",
      "metadata": {
        "id": "zsyZjqak8DC2"
      },
      "source": [
        "## Visualization & Explanatory Analysis\n"
      ]
    },
    {
      "cell_type": "markdown",
      "metadata": {
        "id": "HZxOiQ6n8DC2"
      },
      "source": [
        "### Genre Film yang serin di tonton pada tahun itu\n"
      ]
    },
    {
      "cell_type": "code",
      "execution_count": 15,
      "metadata": {},
      "outputs": [
        {
          "data": {
            "text/html": [
              "<div>\n",
              "<style scoped>\n",
              "    .dataframe tbody tr th:only-of-type {\n",
              "        vertical-align: middle;\n",
              "    }\n",
              "\n",
              "    .dataframe tbody tr th {\n",
              "        vertical-align: top;\n",
              "    }\n",
              "\n",
              "    .dataframe thead th {\n",
              "        text-align: right;\n",
              "    }\n",
              "</style>\n",
              "<table border=\"1\" class=\"dataframe\">\n",
              "  <thead>\n",
              "    <tr style=\"text-align: right;\">\n",
              "      <th></th>\n",
              "      <th>Genre</th>\n",
              "      <th>Film Dirilis</th>\n",
              "    </tr>\n",
              "  </thead>\n",
              "  <tbody>\n",
              "    <tr>\n",
              "      <th>6</th>\n",
              "      <td>Drama</td>\n",
              "      <td>4997</td>\n",
              "    </tr>\n",
              "    <tr>\n",
              "      <th>2</th>\n",
              "      <td>Comedy</td>\n",
              "      <td>2230</td>\n",
              "    </tr>\n",
              "    <tr>\n",
              "      <th>5</th>\n",
              "      <td>Documentary</td>\n",
              "      <td>2143</td>\n",
              "    </tr>\n",
              "    <tr>\n",
              "      <th>12</th>\n",
              "      <td>Thriller or Suspense</td>\n",
              "      <td>938</td>\n",
              "    </tr>\n",
              "    <tr>\n",
              "      <th>11</th>\n",
              "      <td>Romantic Comedy</td>\n",
              "      <td>574</td>\n",
              "    </tr>\n",
              "  </tbody>\n",
              "</table>\n",
              "</div>"
            ],
            "text/plain": [
              "                   Genre  Film Dirilis\n",
              "6                  Drama          4997\n",
              "2                 Comedy          2230\n",
              "5            Documentary          2143\n",
              "12  Thriller or Suspense           938\n",
              "11       Romantic Comedy           574"
            ]
          },
          "execution_count": 15,
          "metadata": {},
          "output_type": "execute_result"
        }
      ],
      "source": [
        "exp_genre_yang_paling_banyak_dirilis.head(5)"
      ]
    },
    {
      "cell_type": "code",
      "execution_count": 16,
      "metadata": {
        "id": "1swJUdAD8DC2"
      },
      "outputs": [
        {
          "data": {
            "image/png": "[encoded data removed]",
            "text/plain": [
              "<Figure size 640x480 with 1 Axes>"
            ]
          },
          "metadata": {},
          "output_type": "display_data"
        }
      ],
      "source": [
        "flavor = exp_genre_yang_paling_banyak_dirilis[\"Genre\"].head(5)\n",
        "votes = exp_genre_yang_paling_banyak_dirilis[\"Film Dirilis\"].head(5)\n",
        "colors = ('#8B4513', '#FFF8DC', '#93C572', '#E67F0D','#93C')\n",
        "explode = (0,0,0,0,0)\n",
        "\n",
        "plt.pie(\n",
        "    x=votes,\n",
        "    labels=flavor,\n",
        "    colors=colors,\n",
        "    wedgeprops={'width':0.4},\n",
        "    explode=explode,\n",
        "    autopct='%1.1f%%'\n",
        ")\n",
        "plt.show()"
      ]
    },
    {
      "cell_type": "markdown",
      "metadata": {
        "id": "DgHI7CiU8DC2"
      },
      "source": [
        "### Pendapatan kotor terbanyak berdasarkan tahun\n"
      ]
    },
    {
      "cell_type": "code",
      "execution_count": 17,
      "metadata": {},
      "outputs": [
        {
          "data": {
            "text/html": [
              "<div>\n",
              "<style scoped>\n",
              "    .dataframe tbody tr th:only-of-type {\n",
              "        vertical-align: middle;\n",
              "    }\n",
              "\n",
              "    .dataframe tbody tr th {\n",
              "        vertical-align: top;\n",
              "    }\n",
              "\n",
              "    .dataframe thead th {\n",
              "        text-align: right;\n",
              "    }\n",
              "</style>\n",
              "<table border=\"1\" class=\"dataframe\">\n",
              "  <thead>\n",
              "    <tr style=\"text-align: right;\">\n",
              "      <th></th>\n",
              "      <th>Tahun</th>\n",
              "      <th>Pendapatan Kotor</th>\n",
              "      <th>Pendapatan Kotor-Inflasi</th>\n",
              "    </tr>\n",
              "  </thead>\n",
              "  <tbody>\n",
              "    <tr>\n",
              "      <th>0</th>\n",
              "      <td>1995</td>\n",
              "      <td>1525963099</td>\n",
              "      <td>3146640569</td>\n",
              "    </tr>\n",
              "    <tr>\n",
              "      <th>1</th>\n",
              "      <td>1996</td>\n",
              "      <td>1373074715</td>\n",
              "      <td>2786533451</td>\n",
              "    </tr>\n",
              "    <tr>\n",
              "      <th>2</th>\n",
              "      <td>1997</td>\n",
              "      <td>1456612580</td>\n",
              "      <td>2846582614</td>\n",
              "    </tr>\n",
              "    <tr>\n",
              "      <th>3</th>\n",
              "      <td>1998</td>\n",
              "      <td>1614467732</td>\n",
              "      <td>3087798481</td>\n",
              "    </tr>\n",
              "    <tr>\n",
              "      <th>4</th>\n",
              "      <td>1999</td>\n",
              "      <td>1458861532</td>\n",
              "      <td>2575981251</td>\n",
              "    </tr>\n",
              "    <tr>\n",
              "      <th>5</th>\n",
              "      <td>2000</td>\n",
              "      <td>1749265350</td>\n",
              "      <td>2911114382</td>\n",
              "    </tr>\n",
              "    <tr>\n",
              "      <th>6</th>\n",
              "      <td>2001</td>\n",
              "      <td>2268870844</td>\n",
              "      <td>3595579067</td>\n",
              "    </tr>\n",
              "    <tr>\n",
              "      <th>7</th>\n",
              "      <td>2002</td>\n",
              "      <td>1601890899</td>\n",
              "      <td>2473142300</td>\n",
              "    </tr>\n",
              "    <tr>\n",
              "      <th>8</th>\n",
              "      <td>2003</td>\n",
              "      <td>2424131447</td>\n",
              "      <td>3606046052</td>\n",
              "    </tr>\n",
              "    <tr>\n",
              "      <th>9</th>\n",
              "      <td>2004</td>\n",
              "      <td>1674423943</td>\n",
              "      <td>2418611849</td>\n",
              "    </tr>\n",
              "  </tbody>\n",
              "</table>\n",
              "</div>"
            ],
            "text/plain": [
              "   Tahun  Pendapatan Kotor  Pendapatan Kotor-Inflasi\n",
              "0   1995        1525963099                3146640569\n",
              "1   1996        1373074715                2786533451\n",
              "2   1997        1456612580                2846582614\n",
              "3   1998        1614467732                3087798481\n",
              "4   1999        1458861532                2575981251\n",
              "5   2000        1749265350                2911114382\n",
              "6   2001        2268870844                3595579067\n",
              "7   2002        1601890899                2473142300\n",
              "8   2003        2424131447                3606046052\n",
              "9   2004        1674423943                2418611849"
            ]
          },
          "execution_count": 17,
          "metadata": {},
          "output_type": "execute_result"
        }
      ],
      "source": [
        "data = exp_tahun_pendapatan_kotor_terbanyak.head(10)\n",
        "data"
      ]
    },
    {
      "cell_type": "code",
      "execution_count": 21,
      "metadata": {
        "id": "Go0lCsvO8DC2"
      },
      "outputs": [
        {
          "data": {
            "text/plain": [
              "<Axes: xlabel='Tahun', ylabel='Pendapatan Kotor'>"
            ]
          },
          "execution_count": 21,
          "metadata": {},
          "output_type": "execute_result"
        },
        {
          "data": {
            "image/png": "[encoded data removed]",
            "text/plain": [
              "<Figure size 640x480 with 1 Axes>"
            ]
          },
          "metadata": {},
          "output_type": "display_data"
        }
      ],
      "source": [
        "# Plot pendapatan kotor\n",
        "sns.barplot(data=data,x=data[\"Tahun\"],y=data[\"Pendapatan Kotor\"],hue=data[\"Tahun\"])"
      ]
    },
    {
      "cell_type": "markdown",
      "metadata": {
        "id": "_WeHlCeX8DC2"
      },
      "source": [
        "## Conclusion\n"
      ]
    },
    {
      "cell_type": "markdown",
      "metadata": {
        "id": "ZTcyR48Y8DC2"
      },
      "source": [
        "- Conclution pertanyaan 1\n",
        "- Conclution pertanyaan 2\n"
      ]
    }
  ],
  "metadata": {
    "colab": {
      "provenance": []
    },
    "kernelspec": {
      "display_name": "Python 3",
      "language": "python",
      "name": "python3"
    },
    "language_info": {
      "codemirror_mode": {
        "name": "ipython",
        "version": 3
      },
      "file_extension": ".py",
      "mimetype": "text/x-python",
      "name": "python",
      "nbconvert_exporter": "python",
      "pygments_lexer": "ipython3",
      "version": "3.12.0"
    },
    "orig_nbformat": 4,
    "vscode": {
      "interpreter": {
        "hash": "972b3bf27e332e87b5379f2791f6ef9dfc79c71018c370b0d7423235e20fe4d7"
      }
    }
  },
  "nbformat": 4,
  "nbformat_minor": 0
}
