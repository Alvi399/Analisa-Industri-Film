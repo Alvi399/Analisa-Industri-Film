{
  "cells": [
    {
      "cell_type": "markdown",
      "metadata": {
        "id": "H9wADwK78DCz"
      },
      "source": [
        "# **Proyek Analisis Data: Film Dataset**"
      ]
    },
    {
      "cell_type": "markdown",
      "metadata": {
        "id": "eE0raob58DC0"
      },
      "source": [
        "## Menentukan Pertanyaan Bisnis"
      ]
    },
    {
      "cell_type": "markdown",
      "metadata": {
        "id": "GmQeQ5YF8DC0"
      },
      "source": [
        "- Pertanyaan 1\n",
        "- Pertanyaan 2"
      ]
    },
    {
      "cell_type": "markdown",
      "metadata": {
        "id": "H-z4QGlO8DC1"
      },
      "source": [
        "## Import Semua Packages/Library yang Digunakan"
      ]
    },
    {
      "cell_type": "code",
      "execution_count": 1,
      "metadata": {
        "id": "FVYwaObI8DC1"
      },
      "outputs": [],
      "source": [
        "import numpy as np\n",
        "import pandas as pd\n",
        "import matplotlib.pyplot as plt\n",
        "import seaborn as sns"
      ]
    },
    {
      "cell_type": "markdown",
      "metadata": {
        "id": "h_Sh51Xy8DC1"
      },
      "source": [
        "## Data Wrangling"
      ]
    },
    {
      "cell_type": "markdown",
      "metadata": {
        "id": "sXU2GBYu8DC1"
      },
      "source": [
        "### Gathering Data"
      ]
    },
    {
      "cell_type": "code",
      "execution_count": 2,
      "metadata": {
        "id": "zjCBk1BI8DC1"
      },
      "outputs": [
        {
          "data": {
            "text/html": [
              "<div>\n",
              "<style scoped>\n",
              "    .dataframe tbody tr th:only-of-type {\n",
              "        vertical-align: middle;\n",
              "    }\n",
              "\n",
              "    .dataframe tbody tr th {\n",
              "        vertical-align: top;\n",
              "    }\n",
              "\n",
              "    .dataframe thead th {\n",
              "        text-align: right;\n",
              "    }\n",
              "</style>\n",
              "<table border=\"1\" class=\"dataframe\">\n",
              "  <thead>\n",
              "    <tr style=\"text-align: right;\">\n",
              "      <th></th>\n",
              "      <th>index</th>\n",
              "      <th>Genre</th>\n",
              "      <th>Year</th>\n",
              "      <th>Movies Released</th>\n",
              "      <th>Gross</th>\n",
              "      <th>Tickets Sold</th>\n",
              "      <th>Inflation-Adjusted Gross</th>\n",
              "      <th>Top Movie</th>\n",
              "      <th>Top Movie Gross (That Year)</th>\n",
              "      <th>Top Movie Inflation-Adjusted Gross (That Year)</th>\n",
              "    </tr>\n",
              "  </thead>\n",
              "  <tbody>\n",
              "    <tr>\n",
              "      <th>0</th>\n",
              "      <td>0</td>\n",
              "      <td>Adventure</td>\n",
              "      <td>1995</td>\n",
              "      <td>29</td>\n",
              "      <td>771507571</td>\n",
              "      <td>177358047</td>\n",
              "      <td>1590901682</td>\n",
              "      <td>Toy Story</td>\n",
              "      <td>150148222</td>\n",
              "      <td>3.096160e+08</td>\n",
              "    </tr>\n",
              "    <tr>\n",
              "      <th>1</th>\n",
              "      <td>1</td>\n",
              "      <td>Adventure</td>\n",
              "      <td>1996</td>\n",
              "      <td>34</td>\n",
              "      <td>1290490033</td>\n",
              "      <td>291966054</td>\n",
              "      <td>2618935504</td>\n",
              "      <td>Independence Day</td>\n",
              "      <td>306169255</td>\n",
              "      <td>6.213435e+08</td>\n",
              "    </tr>\n",
              "    <tr>\n",
              "      <th>2</th>\n",
              "      <td>2</td>\n",
              "      <td>Adventure</td>\n",
              "      <td>1997</td>\n",
              "      <td>23</td>\n",
              "      <td>881902843</td>\n",
              "      <td>192135684</td>\n",
              "      <td>1723457085</td>\n",
              "      <td>Men in Black</td>\n",
              "      <td>250650052</td>\n",
              "      <td>4.898324e+08</td>\n",
              "    </tr>\n",
              "    <tr>\n",
              "      <th>3</th>\n",
              "      <td>3</td>\n",
              "      <td>Adventure</td>\n",
              "      <td>1998</td>\n",
              "      <td>29</td>\n",
              "      <td>1614467732</td>\n",
              "      <td>344236174</td>\n",
              "      <td>3087798481</td>\n",
              "      <td>Armageddon</td>\n",
              "      <td>201578182</td>\n",
              "      <td>3.855344e+08</td>\n",
              "    </tr>\n",
              "    <tr>\n",
              "      <th>4</th>\n",
              "      <td>4</td>\n",
              "      <td>Adventure</td>\n",
              "      <td>1999</td>\n",
              "      <td>27</td>\n",
              "      <td>1612432107</td>\n",
              "      <td>317407880</td>\n",
              "      <td>2847148684</td>\n",
              "      <td>Star Wars Ep. I: The Phantom Menace</td>\n",
              "      <td>430443350</td>\n",
              "      <td>7.600545e+08</td>\n",
              "    </tr>\n",
              "  </tbody>\n",
              "</table>\n",
              "</div>"
            ],
            "text/plain": [
              "   index      Genre  Year  Movies Released       Gross  Tickets Sold  \\\n",
              "0      0  Adventure  1995               29   771507571     177358047   \n",
              "1      1  Adventure  1996               34  1290490033     291966054   \n",
              "2      2  Adventure  1997               23   881902843     192135684   \n",
              "3      3  Adventure  1998               29  1614467732     344236174   \n",
              "4      4  Adventure  1999               27  1612432107     317407880   \n",
              "\n",
              "   Inflation-Adjusted Gross                            Top Movie  \\\n",
              "0                1590901682                            Toy Story   \n",
              "1                2618935504                     Independence Day   \n",
              "2                1723457085                         Men in Black   \n",
              "3                3087798481                           Armageddon   \n",
              "4                2847148684  Star Wars Ep. I: The Phantom Menace   \n",
              "\n",
              "   Top Movie Gross (That Year)  Top Movie Inflation-Adjusted Gross (That Year)  \n",
              "0                    150148222                                    3.096160e+08  \n",
              "1                    306169255                                    6.213435e+08  \n",
              "2                    250650052                                    4.898324e+08  \n",
              "3                    201578182                                    3.855344e+08  \n",
              "4                    430443350                                    7.600545e+08  "
            ]
          },
          "execution_count": 2,
          "metadata": {},
          "output_type": "execute_result"
        }
      ],
      "source": [
        "data_pd = pd.read_csv(\"data/FilmsDataset.csv\")\n",
        "data_pd.head()"
      ]
    },
    {
      "cell_type": "markdown",
      "metadata": {
        "id": "FHSiqaZp8DC1"
      },
      "source": [
        "### Assessing Data"
      ]
    },
    {
      "cell_type": "code",
      "execution_count": 5,
      "metadata": {},
      "outputs": [
        {
          "name": "stdout",
          "output_type": "stream",
          "text": [
            "<class 'pandas.core.frame.DataFrame'>\n",
            "RangeIndex: 300 entries, 0 to 299\n",
            "Data columns (total 10 columns):\n",
            " #   Column                                          Non-Null Count  Dtype  \n",
            "---  ------                                          --------------  -----  \n",
            " 0   index                                           300 non-null    int64  \n",
            " 1   Genre                                           300 non-null    object \n",
            " 2   Year                                            300 non-null    int64  \n",
            " 3   Movies Released                                 300 non-null    int64  \n",
            " 4   Gross                                           300 non-null    int64  \n",
            " 5   Tickets Sold                                    300 non-null    int64  \n",
            " 6   Inflation-Adjusted Gross                        300 non-null    int64  \n",
            " 7   Top Movie                                       300 non-null    object \n",
            " 8   Top Movie Gross (That Year)                     300 non-null    int64  \n",
            " 9   Top Movie Inflation-Adjusted Gross (That Year)  300 non-null    float64\n",
            "dtypes: float64(1), int64(7), object(2)\n",
            "memory usage: 23.6+ KB\n"
          ]
        }
      ],
      "source": [
        "\"\"\"\n",
        "kesalah data yang sering terjadi\n",
        "-duplicated data\n",
        "-missing value\n",
        "-invalid value\n",
        "-inacurated data\n",
        "-inconsistant data\n",
        "-outlier\n",
        "\"\"\"\n",
        "data_pd.info()"
      ]
    },
    {
      "cell_type": "code",
      "execution_count": 4,
      "metadata": {
        "id": "ax-3tEjc9Cj1"
      },
      "outputs": [
        {
          "data": {
            "text/html": [
              "<div>\n",
              "<style scoped>\n",
              "    .dataframe tbody tr th:only-of-type {\n",
              "        vertical-align: middle;\n",
              "    }\n",
              "\n",
              "    .dataframe tbody tr th {\n",
              "        vertical-align: top;\n",
              "    }\n",
              "\n",
              "    .dataframe thead th {\n",
              "        text-align: right;\n",
              "    }\n",
              "</style>\n",
              "<table border=\"1\" class=\"dataframe\">\n",
              "  <thead>\n",
              "    <tr style=\"text-align: right;\">\n",
              "      <th></th>\n",
              "      <th>index</th>\n",
              "      <th>Genre</th>\n",
              "      <th>Year</th>\n",
              "      <th>Movies Released</th>\n",
              "      <th>Gross</th>\n",
              "      <th>Tickets Sold</th>\n",
              "      <th>Inflation-Adjusted Gross</th>\n",
              "      <th>Top Movie</th>\n",
              "      <th>Top Movie Gross (That Year)</th>\n",
              "      <th>Top Movie Inflation-Adjusted Gross (That Year)</th>\n",
              "    </tr>\n",
              "  </thead>\n",
              "  <tbody>\n",
              "    <tr>\n",
              "      <th>count</th>\n",
              "      <td>300.000000</td>\n",
              "      <td>300</td>\n",
              "      <td>300.000000</td>\n",
              "      <td>300.000000</td>\n",
              "      <td>3.000000e+02</td>\n",
              "      <td>3.000000e+02</td>\n",
              "      <td>3.000000e+02</td>\n",
              "      <td>300</td>\n",
              "      <td>3.000000e+02</td>\n",
              "      <td>3.000000e+02</td>\n",
              "    </tr>\n",
              "    <tr>\n",
              "      <th>unique</th>\n",
              "      <td>NaN</td>\n",
              "      <td>14</td>\n",
              "      <td>NaN</td>\n",
              "      <td>NaN</td>\n",
              "      <td>NaN</td>\n",
              "      <td>NaN</td>\n",
              "      <td>NaN</td>\n",
              "      <td>287</td>\n",
              "      <td>NaN</td>\n",
              "      <td>NaN</td>\n",
              "    </tr>\n",
              "    <tr>\n",
              "      <th>top</th>\n",
              "      <td>NaN</td>\n",
              "      <td>Adventure</td>\n",
              "      <td>NaN</td>\n",
              "      <td>NaN</td>\n",
              "      <td>NaN</td>\n",
              "      <td>NaN</td>\n",
              "      <td>NaN</td>\n",
              "      <td>Three Billboards Outside Ebbing, Missouri</td>\n",
              "      <td>NaN</td>\n",
              "      <td>NaN</td>\n",
              "    </tr>\n",
              "    <tr>\n",
              "      <th>freq</th>\n",
              "      <td>NaN</td>\n",
              "      <td>24</td>\n",
              "      <td>NaN</td>\n",
              "      <td>NaN</td>\n",
              "      <td>NaN</td>\n",
              "      <td>NaN</td>\n",
              "      <td>NaN</td>\n",
              "      <td>2</td>\n",
              "      <td>NaN</td>\n",
              "      <td>NaN</td>\n",
              "    </tr>\n",
              "    <tr>\n",
              "      <th>mean</th>\n",
              "      <td>149.500000</td>\n",
              "      <td>NaN</td>\n",
              "      <td>2006.963333</td>\n",
              "      <td>46.700000</td>\n",
              "      <td>7.382075e+08</td>\n",
              "      <td>1.078744e+08</td>\n",
              "      <td>9.676330e+08</td>\n",
              "      <td>NaN</td>\n",
              "      <td>1.350016e+08</td>\n",
              "      <td>1.766255e+08</td>\n",
              "    </tr>\n",
              "    <tr>\n",
              "      <th>std</th>\n",
              "      <td>86.746758</td>\n",
              "      <td>NaN</td>\n",
              "      <td>6.801189</td>\n",
              "      <td>60.938398</td>\n",
              "      <td>8.783016e+08</td>\n",
              "      <td>1.227454e+08</td>\n",
              "      <td>1.101026e+09</td>\n",
              "      <td>NaN</td>\n",
              "      <td>1.395006e+08</td>\n",
              "      <td>1.737089e+08</td>\n",
              "    </tr>\n",
              "    <tr>\n",
              "      <th>min</th>\n",
              "      <td>0.000000</td>\n",
              "      <td>NaN</td>\n",
              "      <td>1995.000000</td>\n",
              "      <td>1.000000</td>\n",
              "      <td>2.010000e+03</td>\n",
              "      <td>2.250000e+02</td>\n",
              "      <td>2.018000e+03</td>\n",
              "      <td>NaN</td>\n",
              "      <td>2.010000e+03</td>\n",
              "      <td>2.018000e+03</td>\n",
              "    </tr>\n",
              "    <tr>\n",
              "      <th>25%</th>\n",
              "      <td>74.750000</td>\n",
              "      <td>NaN</td>\n",
              "      <td>2001.000000</td>\n",
              "      <td>6.000000</td>\n",
              "      <td>5.786591e+07</td>\n",
              "      <td>8.275600e+06</td>\n",
              "      <td>7.423214e+07</td>\n",
              "      <td>NaN</td>\n",
              "      <td>2.528707e+07</td>\n",
              "      <td>3.603908e+07</td>\n",
              "    </tr>\n",
              "    <tr>\n",
              "      <th>50%</th>\n",
              "      <td>149.500000</td>\n",
              "      <td>NaN</td>\n",
              "      <td>2007.000000</td>\n",
              "      <td>25.000000</td>\n",
              "      <td>3.694118e+08</td>\n",
              "      <td>5.634667e+07</td>\n",
              "      <td>5.054296e+08</td>\n",
              "      <td>NaN</td>\n",
              "      <td>9.351396e+07</td>\n",
              "      <td>1.223360e+08</td>\n",
              "    </tr>\n",
              "    <tr>\n",
              "      <th>75%</th>\n",
              "      <td>224.250000</td>\n",
              "      <td>NaN</td>\n",
              "      <td>2013.000000</td>\n",
              "      <td>56.250000</td>\n",
              "      <td>1.294524e+09</td>\n",
              "      <td>1.859968e+08</td>\n",
              "      <td>1.668391e+09</td>\n",
              "      <td>NaN</td>\n",
              "      <td>1.886230e+08</td>\n",
              "      <td>2.841907e+08</td>\n",
              "    </tr>\n",
              "    <tr>\n",
              "      <th>max</th>\n",
              "      <td>299.000000</td>\n",
              "      <td>NaN</td>\n",
              "      <td>2018.000000</td>\n",
              "      <td>287.000000</td>\n",
              "      <td>4.159138e+09</td>\n",
              "      <td>4.851841e+08</td>\n",
              "      <td>4.352101e+09</td>\n",
              "      <td>NaN</td>\n",
              "      <td>7.422089e+08</td>\n",
              "      <td>8.478831e+08</td>\n",
              "    </tr>\n",
              "  </tbody>\n",
              "</table>\n",
              "</div>"
            ],
            "text/plain": [
              "             index      Genre         Year  Movies Released         Gross  \\\n",
              "count   300.000000        300   300.000000       300.000000  3.000000e+02   \n",
              "unique         NaN         14          NaN              NaN           NaN   \n",
              "top            NaN  Adventure          NaN              NaN           NaN   \n",
              "freq           NaN         24          NaN              NaN           NaN   \n",
              "mean    149.500000        NaN  2006.963333        46.700000  7.382075e+08   \n",
              "std      86.746758        NaN     6.801189        60.938398  8.783016e+08   \n",
              "min       0.000000        NaN  1995.000000         1.000000  2.010000e+03   \n",
              "25%      74.750000        NaN  2001.000000         6.000000  5.786591e+07   \n",
              "50%     149.500000        NaN  2007.000000        25.000000  3.694118e+08   \n",
              "75%     224.250000        NaN  2013.000000        56.250000  1.294524e+09   \n",
              "max     299.000000        NaN  2018.000000       287.000000  4.159138e+09   \n",
              "\n",
              "        Tickets Sold  Inflation-Adjusted Gross  \\\n",
              "count   3.000000e+02              3.000000e+02   \n",
              "unique           NaN                       NaN   \n",
              "top              NaN                       NaN   \n",
              "freq             NaN                       NaN   \n",
              "mean    1.078744e+08              9.676330e+08   \n",
              "std     1.227454e+08              1.101026e+09   \n",
              "min     2.250000e+02              2.018000e+03   \n",
              "25%     8.275600e+06              7.423214e+07   \n",
              "50%     5.634667e+07              5.054296e+08   \n",
              "75%     1.859968e+08              1.668391e+09   \n",
              "max     4.851841e+08              4.352101e+09   \n",
              "\n",
              "                                        Top Movie  \\\n",
              "count                                         300   \n",
              "unique                                        287   \n",
              "top     Three Billboards Outside Ebbing, Missouri   \n",
              "freq                                            2   \n",
              "mean                                          NaN   \n",
              "std                                           NaN   \n",
              "min                                           NaN   \n",
              "25%                                           NaN   \n",
              "50%                                           NaN   \n",
              "75%                                           NaN   \n",
              "max                                           NaN   \n",
              "\n",
              "        Top Movie Gross (That Year)  \\\n",
              "count                  3.000000e+02   \n",
              "unique                          NaN   \n",
              "top                             NaN   \n",
              "freq                            NaN   \n",
              "mean                   1.350016e+08   \n",
              "std                    1.395006e+08   \n",
              "min                    2.010000e+03   \n",
              "25%                    2.528707e+07   \n",
              "50%                    9.351396e+07   \n",
              "75%                    1.886230e+08   \n",
              "max                    7.422089e+08   \n",
              "\n",
              "        Top Movie Inflation-Adjusted Gross (That Year)  \n",
              "count                                     3.000000e+02  \n",
              "unique                                             NaN  \n",
              "top                                                NaN  \n",
              "freq                                               NaN  \n",
              "mean                                      1.766255e+08  \n",
              "std                                       1.737089e+08  \n",
              "min                                       2.018000e+03  \n",
              "25%                                       3.603908e+07  \n",
              "50%                                       1.223360e+08  \n",
              "75%                                       2.841907e+08  \n",
              "max                                       8.478831e+08  "
            ]
          },
          "execution_count": 4,
          "metadata": {},
          "output_type": "execute_result"
        }
      ],
      "source": [
        "data_pd.describe(include = 'all')"
      ]
    },
    {
      "cell_type": "code",
      "execution_count": 6,
      "metadata": {},
      "outputs": [
        {
          "name": "stdout",
          "output_type": "stream",
          "text": [
            "Jumlah duplikasi data pada dataset:  0\n"
          ]
        }
      ],
      "source": [
        "#Duplikasi\n",
        "duplicated_data = data_pd.duplicated().sum()\n",
        "print(\"Jumlah duplikasi data pada dataset: \",duplicated_data)"
      ]
    },
    {
      "cell_type": "code",
      "execution_count": 10,
      "metadata": {},
      "outputs": [
        {
          "data": {
            "text/plain": [
              "index                                             0\n",
              "Genre                                             0\n",
              "Year                                              0\n",
              "Movies Released                                   0\n",
              "Gross                                             0\n",
              "Tickets Sold                                      0\n",
              "Inflation-Adjusted Gross                          0\n",
              "Top Movie                                         0\n",
              "Top Movie Gross (That Year)                       0\n",
              "Top Movie Inflation-Adjusted Gross (That Year)    0\n",
              "dtype: int64"
            ]
          },
          "execution_count": 10,
          "metadata": {},
          "output_type": "execute_result"
        }
      ],
      "source": [
        "#Missing Value\n",
        "data_pd.isnull().sum()"
      ]
    },
    {
      "cell_type": "code",
      "execution_count": 9,
      "metadata": {},
      "outputs": [
        {
          "name": "stdout",
          "output_type": "stream",
          "text": [
            "Data yang outliner:  [3202949362, 3284291528, 4159137913, 3305708764, 4142067464]\n"
          ]
        }
      ],
      "source": [
        "#Outliers\n",
        "q25, q75 = np.percentile(data_pd[\"Gross\"], 25), np.percentile(data_pd[\"Gross\"], 75)\n",
        "iqr = q75 - q25\n",
        "cut_off = iqr * 1.5\n",
        "minimum, maximum = q25 - cut_off, q75 + cut_off\n",
        "outliers = [x for x in data_pd[\"Gross\"] if x < minimum or x > maximum]\n",
        "print(\"Data yang outliner: \",outliers)"
      ]
    },
    {
      "cell_type": "markdown",
      "metadata": {
        "id": "EhN5R4hr8DC1"
      },
      "source": [
        "### Cleaning Data"
      ]
    },
    {
      "cell_type": "code",
      "execution_count": null,
      "metadata": {
        "id": "jVnYpprE9Evz"
      },
      "outputs": [],
      "source": [
        "duplicated_data = data_pd.duplicated().sum()\n",
        "misssing_data = data_pd.isna().sum()\n"
      ]
    },
    {
      "cell_type": "markdown",
      "metadata": {
        "id": "gp-Y6wU38DC1"
      },
      "source": [
        "## Exploratory Data Analysis (EDA)"
      ]
    },
    {
      "cell_type": "markdown",
      "metadata": {
        "id": "MW7WF2kr8DC1"
      },
      "source": [
        "### Explore ..."
      ]
    },
    {
      "cell_type": "code",
      "execution_count": null,
      "metadata": {
        "id": "e9CQCZjk8DC2"
      },
      "outputs": [],
      "source": []
    },
    {
      "cell_type": "markdown",
      "metadata": {
        "id": "zsyZjqak8DC2"
      },
      "source": [
        "## Visualization & Explanatory Analysis"
      ]
    },
    {
      "cell_type": "markdown",
      "metadata": {
        "id": "HZxOiQ6n8DC2"
      },
      "source": [
        "### Pertanyaan 1:"
      ]
    },
    {
      "cell_type": "code",
      "execution_count": null,
      "metadata": {
        "id": "1swJUdAD8DC2"
      },
      "outputs": [],
      "source": []
    },
    {
      "cell_type": "markdown",
      "metadata": {
        "id": "DgHI7CiU8DC2"
      },
      "source": [
        "### Pertanyaan 2:"
      ]
    },
    {
      "cell_type": "code",
      "execution_count": null,
      "metadata": {
        "id": "Go0lCsvO8DC2"
      },
      "outputs": [],
      "source": []
    },
    {
      "cell_type": "markdown",
      "metadata": {
        "id": "_WeHlCeX8DC2"
      },
      "source": [
        "## Conclusion"
      ]
    },
    {
      "cell_type": "markdown",
      "metadata": {
        "id": "ZTcyR48Y8DC2"
      },
      "source": [
        "- Conclution pertanyaan 1\n",
        "- Conclution pertanyaan 2"
      ]
    }
  ],
  "metadata": {
    "colab": {
      "provenance": []
    },
    "kernelspec": {
      "display_name": "Python 3",
      "language": "python",
      "name": "python3"
    },
    "language_info": {
      "codemirror_mode": {
        "name": "ipython",
        "version": 3
      },
      "file_extension": ".py",
      "mimetype": "text/x-python",
      "name": "python",
      "nbconvert_exporter": "python",
      "pygments_lexer": "ipython3",
      "version": "3.12.0"
    },
    "orig_nbformat": 4,
    "vscode": {
      "interpreter": {
        "hash": "972b3bf27e332e87b5379f2791f6ef9dfc79c71018c370b0d7423235e20fe4d7"
      }
    }
  },
  "nbformat": 4,
  "nbformat_minor": 0
}
